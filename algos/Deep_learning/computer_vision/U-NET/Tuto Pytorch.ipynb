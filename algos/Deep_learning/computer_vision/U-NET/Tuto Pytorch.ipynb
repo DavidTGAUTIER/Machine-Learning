{
 "cells": [
  {
   "cell_type": "code",
   "execution_count": 2,
   "id": "93a7e77c",
   "metadata": {},
   "outputs": [],
   "source": [
    "import torch\n",
    "import numpy as np"
   ]
  },
  {
   "cell_type": "markdown",
   "id": "c53d2349",
   "metadata": {},
   "source": [
    "## Intro"
   ]
  },
  {
   "cell_type": "code",
   "execution_count": 2,
   "id": "c26997a1",
   "metadata": {},
   "outputs": [
    {
     "data": {
      "text/plain": [
       "tensor(6)"
      ]
     },
     "execution_count": 2,
     "metadata": {},
     "output_type": "execute_result"
    }
   ],
   "source": [
    "x = torch.tensor([1, 2, 3])\n",
    "torch.sum(x)"
   ]
  },
  {
   "cell_type": "markdown",
   "id": "cadbf3af",
   "metadata": {},
   "source": [
    "**torch.sum(input, dim, keepdim=False, dtype=None) → Tensor**\n",
    "\n",
    "**numpy.sum(a, axis=None, dtype=None, out=None, keepdims=False)**"
   ]
  },
  {
   "cell_type": "code",
   "execution_count": 3,
   "id": "c3af9685",
   "metadata": {},
   "outputs": [
    {
     "data": {
      "text/plain": [
       "torch.Size([2, 3])"
      ]
     },
     "execution_count": 3,
     "metadata": {},
     "output_type": "execute_result"
    }
   ],
   "source": [
    "x = torch.tensor([\n",
    "     [1, 2, 3],\n",
    "     [4, 5, 6]\n",
    "   ])\n",
    "\n",
    "x.shape"
   ]
  },
  {
   "cell_type": "code",
   "execution_count": 16,
   "id": "e0a5353e",
   "metadata": {},
   "outputs": [
    {
     "data": {
      "text/plain": [
       "torch.Size([3, 2, 3])"
      ]
     },
     "execution_count": 16,
     "metadata": {},
     "output_type": "execute_result"
    }
   ],
   "source": [
    "y = torch.tensor([\n",
    "     [\n",
    "       [1, 2, 3],\n",
    "       [4, 5, 6]\n",
    "     ],\n",
    "     [\n",
    "       [1, 2, 3],\n",
    "       [4, 5, 6]\n",
    "     ],\n",
    "     [\n",
    "       [1, 2, 3],\n",
    "       [4, 5, 6]\n",
    "     ]\n",
    "   ])\n",
    "\n",
    "y.shape"
   ]
  },
  {
   "cell_type": "markdown",
   "id": "b35f2611",
   "metadata": {},
   "source": [
    "### sum axis=0"
   ]
  },
  {
   "cell_type": "markdown",
   "id": "6bc44b8e",
   "metadata": {},
   "source": [
    "![](https://miro.medium.com/v2/resize:fit:640/1*XvGIb1XxF6r9FYHQ3yYPTw.gif)"
   ]
  },
  {
   "cell_type": "code",
   "execution_count": 11,
   "id": "4d6cc8a7",
   "metadata": {},
   "outputs": [
    {
     "data": {
      "text/plain": [
       "tensor([[ 3,  6,  9],\n",
       "        [12, 15, 18]])"
      ]
     },
     "execution_count": 11,
     "metadata": {},
     "output_type": "execute_result"
    }
   ],
   "source": [
    "torch.sum(y, dim=0)"
   ]
  },
  {
   "cell_type": "markdown",
   "id": "6e2dc6a6",
   "metadata": {},
   "source": [
    "### sum axis=1"
   ]
  },
  {
   "cell_type": "markdown",
   "id": "ebf4a0ec",
   "metadata": {},
   "source": [
    "![](https://miro.medium.com/v2/resize:fit:640/1*e608vZqp7jNIdsarKbeunQ.gif)"
   ]
  },
  {
   "cell_type": "code",
   "execution_count": 12,
   "id": "6c945c32",
   "metadata": {},
   "outputs": [
    {
     "data": {
      "text/plain": [
       "tensor([[5, 7, 9],\n",
       "        [5, 7, 9],\n",
       "        [5, 7, 9]])"
      ]
     },
     "execution_count": 12,
     "metadata": {},
     "output_type": "execute_result"
    }
   ],
   "source": [
    "torch.sum(y, dim=1)"
   ]
  },
  {
   "cell_type": "markdown",
   "id": "7596318a",
   "metadata": {},
   "source": [
    "### sum axis=2"
   ]
  },
  {
   "cell_type": "markdown",
   "id": "9e0b98be",
   "metadata": {},
   "source": [
    "![](https://miro.medium.com/v2/resize:fit:640/1*pf9K7VX2M6_1p39JUmOkLQ.gif)"
   ]
  },
  {
   "cell_type": "code",
   "execution_count": 18,
   "id": "0d911e6b",
   "metadata": {},
   "outputs": [
    {
     "data": {
      "text/plain": [
       "tensor([[[1, 2, 3],\n",
       "         [4, 5, 6]],\n",
       "\n",
       "        [[1, 2, 3],\n",
       "         [4, 5, 6]],\n",
       "\n",
       "        [[1, 2, 3],\n",
       "         [4, 5, 6]]])"
      ]
     },
     "execution_count": 18,
     "metadata": {},
     "output_type": "execute_result"
    }
   ],
   "source": [
    "y"
   ]
  },
  {
   "cell_type": "code",
   "execution_count": 17,
   "id": "74e86a9d",
   "metadata": {},
   "outputs": [
    {
     "data": {
      "text/plain": [
       "tensor([[ 6, 15],\n",
       "        [ 6, 15],\n",
       "        [ 6, 15]])"
      ]
     },
     "execution_count": 17,
     "metadata": {},
     "output_type": "execute_result"
    }
   ],
   "source": [
    "torch.sum(y, dim=2)"
   ]
  },
  {
   "cell_type": "code",
   "execution_count": 20,
   "id": "4c38155e",
   "metadata": {},
   "outputs": [
    {
     "data": {
      "text/plain": [
       "torch.Size([1, 3, 2, 3])"
      ]
     },
     "execution_count": 20,
     "metadata": {},
     "output_type": "execute_result"
    }
   ],
   "source": [
    "tensor_3d = y\n",
    "tensor_3d.unsqueeze(0).shape"
   ]
  },
  {
   "cell_type": "code",
   "execution_count": 22,
   "id": "46cf9c48",
   "metadata": {},
   "outputs": [
    {
     "data": {
      "text/plain": [
       "torch.Size([3, 3, 2, 3])"
      ]
     },
     "execution_count": 22,
     "metadata": {},
     "output_type": "execute_result"
    }
   ],
   "source": [
    "tensor_3d = y\n",
    "# Etendre les dimensions pour créer un tensor 4D\n",
    "data_4d = tensor_3d.unsqueeze(0).repeat(3, 1, 1, 1)\n",
    "data_4d.shape"
   ]
  },
  {
   "cell_type": "markdown",
   "id": "44f655bc",
   "metadata": {},
   "source": [
    "## Tensors"
   ]
  },
  {
   "cell_type": "code",
   "execution_count": 23,
   "id": "6e5281fc",
   "metadata": {},
   "outputs": [],
   "source": [
    "import torch"
   ]
  },
  {
   "cell_type": "markdown",
   "id": "039232e0",
   "metadata": {},
   "source": [
    "### torch.empty(size): uninitiallized"
   ]
  },
  {
   "cell_type": "code",
   "execution_count": 26,
   "id": "6a300d0c",
   "metadata": {},
   "outputs": [
    {
     "name": "stdout",
     "output_type": "stream",
     "text": [
      "tensor([-2.0516e+36,  3.0889e-41, -2.0524e+36])\n",
      "torch.Size([3])\n"
     ]
    }
   ],
   "source": [
    "x = torch.empty(3) # scalar or vector 1d\n",
    "print(x)\n",
    "print(x.shape)"
   ]
  },
  {
   "cell_type": "code",
   "execution_count": 27,
   "id": "a2692a67",
   "metadata": {},
   "outputs": [
    {
     "name": "stdout",
     "output_type": "stream",
     "text": [
      "tensor([[-2.0516e+36,  3.0889e-41, -1.8477e+36],\n",
      "        [ 3.0889e-41,  4.7049e-31,  4.5789e-41]])\n",
      "torch.Size([2, 3])\n"
     ]
    }
   ],
   "source": [
    "x = torch.empty(2, 3) # matrix, 2D\n",
    "print(x)\n",
    "print(x.shape)"
   ]
  },
  {
   "cell_type": "code",
   "execution_count": 16,
   "id": "73c655a8",
   "metadata": {},
   "outputs": [
    {
     "name": "stdout",
     "output_type": "stream",
     "text": [
      "tensor([[[-3.4597e+34,  3.0700e-41,  0.0000e+00],\n",
      "         [ 7.0065e-45, -3.4636e+34,  3.0700e-41]],\n",
      "\n",
      "        [[-3.1456e+33,  3.0700e-41,  2.8411e-33],\n",
      "         [ 4.5799e-41,  0.0000e+00,  0.0000e+00]]])\n",
      "torch.Size([2, 2, 3])\n"
     ]
    }
   ],
   "source": [
    "x = torch.empty(2,2,3) # tensor, 3 dimensions\n",
    "print(x)\n",
    "print(x.shape)"
   ]
  },
  {
   "cell_type": "code",
   "execution_count": null,
   "id": "ab2b23fb",
   "metadata": {},
   "outputs": [],
   "source": []
  },
  {
   "cell_type": "code",
   "execution_count": 28,
   "id": "c48adcb6",
   "metadata": {},
   "outputs": [
    {
     "name": "stdout",
     "output_type": "stream",
     "text": [
      "tensor([[0.2109, 0.0932],\n",
      "        [0.5810, 0.1365]])\n"
     ]
    }
   ],
   "source": [
    "x = torch.rand(2, 2)\n",
    "print(x)"
   ]
  },
  {
   "cell_type": "code",
   "execution_count": 29,
   "id": "9dfb120c",
   "metadata": {},
   "outputs": [
    {
     "name": "stdout",
     "output_type": "stream",
     "text": [
      "tensor([[0., 0.],\n",
      "        [0., 0.]])\n"
     ]
    }
   ],
   "source": [
    "x = torch.zeros(2, 2)\n",
    "print(x)"
   ]
  },
  {
   "cell_type": "code",
   "execution_count": 30,
   "id": "e9335993",
   "metadata": {},
   "outputs": [
    {
     "name": "stdout",
     "output_type": "stream",
     "text": [
      "tensor([[1., 1.],\n",
      "        [1., 1.]])\n"
     ]
    }
   ],
   "source": [
    "x = torch.ones(2, 2)\n",
    "print(x)"
   ]
  },
  {
   "cell_type": "code",
   "execution_count": 31,
   "id": "f5f08a72",
   "metadata": {},
   "outputs": [
    {
     "name": "stdout",
     "output_type": "stream",
     "text": [
      "torch.float64\n"
     ]
    }
   ],
   "source": [
    "x = torch.ones(2, 2, dtype=torch.double) # torch.float16 ou torch.int\n",
    "print(x.dtype)"
   ]
  },
  {
   "cell_type": "code",
   "execution_count": 32,
   "id": "7365083e",
   "metadata": {},
   "outputs": [
    {
     "name": "stdout",
     "output_type": "stream",
     "text": [
      "torch.Size([2, 2])\n"
     ]
    }
   ],
   "source": [
    "print(x.size())"
   ]
  },
  {
   "cell_type": "code",
   "execution_count": 3,
   "id": "29a7970c",
   "metadata": {},
   "outputs": [
    {
     "name": "stdout",
     "output_type": "stream",
     "text": [
      "torch.Size([2])\n"
     ]
    }
   ],
   "source": [
    "x = torch.tensor([2.5, 0.1])\n",
    "print(x.size())"
   ]
  },
  {
   "cell_type": "code",
   "execution_count": 10,
   "id": "02015012",
   "metadata": {},
   "outputs": [
    {
     "name": "stdout",
     "output_type": "stream",
     "text": [
      "tensor([[0.4317, 0.3500],\n",
      "        [0.0597, 0.9835]])\n",
      "\n",
      "tensor([[0.4243, 0.1411],\n",
      "        [0.3572, 0.7751]])\n"
     ]
    }
   ],
   "source": [
    "x = torch.rand(2, 2)\n",
    "y = torch.rand(2, 2)\n",
    "\n",
    "print(x)\n",
    "print()\n",
    "print(y)"
   ]
  },
  {
   "cell_type": "code",
   "execution_count": 11,
   "id": "89c04bed",
   "metadata": {},
   "outputs": [
    {
     "name": "stdout",
     "output_type": "stream",
     "text": [
      "tensor([[0.8559, 0.4910],\n",
      "        [0.4169, 1.7586]])\n",
      "\n",
      "tensor([[0.8559, 0.4910],\n",
      "        [0.4169, 1.7586]])\n"
     ]
    }
   ],
   "source": [
    "z = x + y\n",
    "\n",
    "print(z)\n",
    "print()\n",
    "print(torch.add(x, y))"
   ]
  },
  {
   "cell_type": "code",
   "execution_count": 12,
   "id": "666dbb36",
   "metadata": {},
   "outputs": [
    {
     "name": "stdout",
     "output_type": "stream",
     "text": [
      "tensor([[ 0.0074,  0.2089],\n",
      "        [-0.2976,  0.2084]])\n",
      "\n",
      "tensor([[ 0.0074,  0.2089],\n",
      "        [-0.2976,  0.2084]])\n"
     ]
    }
   ],
   "source": [
    "z = x - y\n",
    "\n",
    "print(z)\n",
    "print()\n",
    "print(torch.sub(x, y))"
   ]
  },
  {
   "cell_type": "code",
   "execution_count": 14,
   "id": "e34bb147",
   "metadata": {},
   "outputs": [
    {
     "name": "stdout",
     "output_type": "stream",
     "text": [
      "tensor([[0.1831, 0.0494],\n",
      "        [0.0213, 0.7623]])\n",
      "\n",
      "tensor([[0.1831, 0.0494],\n",
      "        [0.0213, 0.7623]])\n"
     ]
    }
   ],
   "source": [
    "z = x * y \n",
    "\n",
    "print(z)\n",
    "print()\n",
    "print(torch.mul(x, y))"
   ]
  },
  {
   "cell_type": "code",
   "execution_count": 15,
   "id": "6b5956be",
   "metadata": {},
   "outputs": [
    {
     "name": "stdout",
     "output_type": "stream",
     "text": [
      "tensor([[1.0174, 2.4813],\n",
      "        [0.1670, 1.2689]])\n",
      "\n",
      "tensor([[1.0174, 2.4813],\n",
      "        [0.1670, 1.2689]])\n"
     ]
    }
   ],
   "source": [
    "z = x / y \n",
    "\n",
    "print(z)\n",
    "print()\n",
    "print(torch.div(x, y))"
   ]
  },
  {
   "cell_type": "code",
   "execution_count": null,
   "id": "1cbc7158",
   "metadata": {},
   "outputs": [],
   "source": [
    "x = torch.rand"
   ]
  },
  {
   "cell_type": "code",
   "execution_count": null,
   "id": "5d3f7365",
   "metadata": {},
   "outputs": [],
   "source": []
  },
  {
   "cell_type": "code",
   "execution_count": null,
   "id": "824b9b05",
   "metadata": {},
   "outputs": [],
   "source": []
  },
  {
   "cell_type": "code",
   "execution_count": null,
   "id": "fd391182",
   "metadata": {},
   "outputs": [],
   "source": []
  },
  {
   "cell_type": "code",
   "execution_count": null,
   "id": "0407fdce",
   "metadata": {},
   "outputs": [],
   "source": []
  },
  {
   "cell_type": "markdown",
   "id": "4a73433b",
   "metadata": {},
   "source": [
    "https://www.youtube.com/watch?v=c36lUUr864M&t=462s"
   ]
  },
  {
   "cell_type": "markdown",
   "id": "f190caec",
   "metadata": {},
   "source": [
    "https://www.youtube.com/watch?v=V_xro1bcAuA&t=677s"
   ]
  },
  {
   "cell_type": "code",
   "execution_count": null,
   "id": "10ab82b3",
   "metadata": {},
   "outputs": [],
   "source": []
  }
 ],
 "metadata": {
  "kernelspec": {
   "display_name": "Python 3 (ipykernel)",
   "language": "python",
   "name": "python3"
  },
  "language_info": {
   "codemirror_mode": {
    "name": "ipython",
    "version": 3
   },
   "file_extension": ".py",
   "mimetype": "text/x-python",
   "name": "python",
   "nbconvert_exporter": "python",
   "pygments_lexer": "ipython3",
   "version": "3.10.6"
  }
 },
 "nbformat": 4,
 "nbformat_minor": 5
}
