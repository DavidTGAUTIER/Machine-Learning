{
 "cells": [
  {
   "cell_type": "markdown",
   "metadata": {},
   "source": [
    "https://pandas.pydata.org/pandas-docs/stable/user_guide/advanced.html"
   ]
  },
  {
   "cell_type": "code",
   "execution_count": 3,
   "metadata": {},
   "outputs": [],
   "source": [
    "import pandas as pd \n",
    "import numpy as np\n",
    "import matplotlib.pyplot as plt"
   ]
  },
  {
   "cell_type": "markdown",
   "metadata": {},
   "source": [
    "#### pd.pivot_table(data, values=None, index=None, columns=None, aggfunc='mean', fill_value=None, margins=False, dropna=True, margins_name='All', observed=False)"
   ]
  },
  {
   "cell_type": "code",
   "execution_count": 9,
   "metadata": {},
   "outputs": [
    {
     "name": "stdout",
     "output_type": "stream",
     "text": [
      "         Date Region                 Type  Units  Sales\n",
      "0  2020-07-11   East  Children's Clothing   18.0    306\n",
      "1  2020-09-23  North  Children's Clothing   14.0    448\n",
      "2  2020-04-02  South     Women's Clothing   17.0    425\n",
      "3  2020-02-28   East  Children's Clothing   26.0    832\n",
      "4  2020-03-19   West     Women's Clothing    3.0     33\n",
      "5  2020-02-05  North     Women's Clothing   33.0    627\n",
      "6  2020-01-24  South     Women's Clothing   12.0    396\n",
      "7  2020-03-25   East     Women's Clothing   29.0    609\n",
      "8  2020-01-03  North  Children's Clothing   18.0    486\n",
      "9  2020-11-03   East  Children's Clothing   34.0    374\n",
      "10 2020-04-16  South     Women's Clothing   16.0    352\n",
      "11 2020-08-09  North       Men's Clothing    NaN    270\n",
      "12 2020-05-01   East       Men's Clothing   10.0    140\n",
      "13 2020-08-11   East  Children's Clothing   12.0    348\n",
      "14 2020-01-07   East       Men's Clothing   30.0    360\n",
      "15 2020-11-26   West       Men's Clothing   27.0    864\n",
      "16 2020-06-12   East     Women's Clothing   35.0   1050\n",
      "17 2020-08-20  North  Children's Clothing   18.0    378\n",
      "18 2020-06-16  North     Women's Clothing   34.0    884\n",
      "19 2020-03-08  North       Men's Clothing    NaN    644\n"
     ]
    }
   ],
   "source": [
    "df = pd.read_excel('https://github.com/datagy/pivot_table_pandas/raw/master/sample_pivot.xlsx', parse_dates=['Date'])\n",
    "print(df.head(20))"
   ]
  },
  {
   "cell_type": "code",
   "execution_count": 15,
   "metadata": {},
   "outputs": [
    {
     "data": {
      "text/plain": [
       "Units     19.732360\n",
       "Sales    408.182482\n",
       "dtype: float64"
      ]
     },
     "execution_count": 15,
     "metadata": {},
     "output_type": "execute_result"
    }
   ],
   "source": [
    "df_sales_east = df[df['Region'] == 'East'].mean(numeric_only=True)\n",
    "# numeric_only : bool, default None Include only float, int, boolean columns. If None, will attempt to use everything,\n",
    "# then use only numeric data. Not implemented for Series.\n",
    "df_sales_east.head()"
   ]
  },
  {
   "cell_type": "markdown",
   "metadata": {},
   "source": [
    "## Creating a Pivot Table in Pandas"
   ]
  },
  {
   "cell_type": "markdown",
   "metadata": {},
   "source": [
    "This gave us a summary of the Sales field by Region"
   ]
  },
  {
   "cell_type": "code",
   "execution_count": 19,
   "metadata": {},
   "outputs": [
    {
     "name": "stdout",
     "output_type": "stream",
     "text": [
      "             Sales\n",
      "Region            \n",
      "East    408.182482\n",
      "North   438.924051\n",
      "South   432.956204\n",
      "West    452.029412\n"
     ]
    }
   ],
   "source": [
    "sales_by_region = pd.pivot_table(df, index = 'Region', values = 'Sales') # par defaut : aggfunc='mean'\n",
    "print(sales_by_region)"
   ]
  },
  {
   "cell_type": "markdown",
   "metadata": {},
   "source": [
    "Return the sum of all Sales across a region"
   ]
  },
  {
   "cell_type": "code",
   "execution_count": 20,
   "metadata": {},
   "outputs": [
    {
     "name": "stdout",
     "output_type": "stream",
     "text": [
      "         Sales\n",
      "Region        \n",
      "East    167763\n",
      "North   138700\n",
      "South    59315\n",
      "West     61476\n"
     ]
    }
   ],
   "source": [
    "total_by_region = pd.pivot_table(df, index='Region', values='Sales', aggfunc='sum')\n",
    "print(total_by_region)"
   ]
  },
  {
   "cell_type": "markdown",
   "metadata": {},
   "source": [
    "## Multi-Index Dataframes in Pandas"
   ]
  },
  {
   "cell_type": "code",
   "execution_count": null,
   "metadata": {},
   "outputs": [],
   "source": []
  }
 ],
 "metadata": {
  "kernelspec": {
   "display_name": "Python 3",
   "language": "python",
   "name": "python3"
  },
  "language_info": {
   "codemirror_mode": {
    "name": "ipython",
    "version": 3
   },
   "file_extension": ".py",
   "mimetype": "text/x-python",
   "name": "python",
   "nbconvert_exporter": "python",
   "pygments_lexer": "ipython3",
   "version": "3.8.5"
  }
 },
 "nbformat": 4,
 "nbformat_minor": 4
}
